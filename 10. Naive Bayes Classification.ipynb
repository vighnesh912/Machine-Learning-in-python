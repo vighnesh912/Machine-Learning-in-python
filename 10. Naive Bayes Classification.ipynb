{
 "cells": [
  {
   "cell_type": "code",
   "execution_count": 1,
   "id": "4ecf3503",
   "metadata": {},
   "outputs": [],
   "source": [
    "import pandas as pd"
   ]
  },
  {
   "cell_type": "code",
   "execution_count": 2,
   "id": "5cb9ccb7",
   "metadata": {},
   "outputs": [],
   "source": [
    "dataset = pd.read_csv('Car.csv')\n",
    "X = dataset[['Age','Income']]\n",
    "y = dataset[['Car']]"
   ]
  },
  {
   "cell_type": "code",
   "execution_count": 3,
   "id": "9dc27a67",
   "metadata": {},
   "outputs": [
    {
     "name": "stdout",
     "output_type": "stream",
     "text": [
      "    Age  Income\n",
      "78   25   22000\n",
      "13   38   61000\n",
      "7    26   35000\n",
      "30   26   84000\n",
      "22   37   72000\n",
      "..  ...     ...\n",
      "96   34   43000\n",
      "67   22   55000\n",
      "64   35   38000\n",
      "47   27   96000\n",
      "44   30   89000\n",
      "\n",
      "[88 rows x 2 columns]\n",
      "    Car\n",
      "78    0\n",
      "13    0\n",
      "7     0\n",
      "30    0\n",
      "22    0\n",
      "..  ...\n",
      "96    0\n",
      "67    0\n",
      "64    0\n",
      "47    1\n",
      "44    0\n",
      "\n",
      "[88 rows x 1 columns]\n",
      "    Age  Income\n",
      "26   39   61000\n",
      "86   31   66000\n",
      "2    28   59000\n",
      "55   40   47000\n",
      "75   34   72000\n",
      "93   29   43000\n",
      "16   40   57000\n",
      "73   26  118000\n",
      "54   36   50000\n",
      "95   28   89000\n",
      "53   31   76000\n",
      "92   19   26000\n",
      "    Car\n",
      "26    0\n",
      "86    0\n",
      "2     0\n",
      "55    0\n",
      "75    0\n",
      "93    0\n",
      "16    0\n",
      "73    0\n",
      "54    0\n",
      "95    0\n",
      "53    0\n",
      "92    0\n"
     ]
    }
   ],
   "source": [
    "from sklearn.model_selection import train_test_split\n",
    "X_train, X_test, y_train, y_test = train_test_split(X, y, test_size = 0.118, random_state = 0)\n",
    "print(X_train)\n",
    "print(y_train)\n",
    "print(X_test)\n",
    "print(y_test)"
   ]
  },
  {
   "cell_type": "code",
   "execution_count": 4,
   "id": "f073a3ff",
   "metadata": {},
   "outputs": [
    {
     "name": "stderr",
     "output_type": "stream",
     "text": [
      "C:\\Users\\vigne\\anaconda3\\lib\\site-packages\\sklearn\\utils\\validation.py:63: DataConversionWarning: A column-vector y was passed when a 1d array was expected. Please change the shape of y to (n_samples, ), for example using ravel().\n",
      "  return f(*args, **kwargs)\n"
     ]
    },
    {
     "data": {
      "text/plain": [
       "GaussianNB()"
      ]
     },
     "execution_count": 4,
     "metadata": {},
     "output_type": "execute_result"
    }
   ],
   "source": [
    "from sklearn.naive_bayes import GaussianNB\n",
    "classifier = GaussianNB()\n",
    "classifier.fit(X_train, y_train)"
   ]
  },
  {
   "cell_type": "code",
   "execution_count": 5,
   "id": "45b5c790",
   "metadata": {},
   "outputs": [
    {
     "data": {
      "text/plain": [
       "array([0, 0, 0, 0, 0, 0, 0, 0, 0, 0, 0, 0], dtype=int64)"
      ]
     },
     "execution_count": 5,
     "metadata": {},
     "output_type": "execute_result"
    }
   ],
   "source": [
    "classifier.predict(X_test)"
   ]
  },
  {
   "cell_type": "code",
   "execution_count": 6,
   "id": "0aa8dc00",
   "metadata": {},
   "outputs": [
    {
     "data": {
      "text/plain": [
       "1.0"
      ]
     },
     "execution_count": 6,
     "metadata": {},
     "output_type": "execute_result"
    }
   ],
   "source": [
    "classifier.score(X_test,y_test)"
   ]
  },
  {
   "cell_type": "code",
   "execution_count": null,
   "id": "b647bc70",
   "metadata": {},
   "outputs": [],
   "source": []
  }
 ],
 "metadata": {
  "kernelspec": {
   "display_name": "Python 3",
   "language": "python",
   "name": "python3"
  },
  "language_info": {
   "codemirror_mode": {
    "name": "ipython",
    "version": 3
   },
   "file_extension": ".py",
   "mimetype": "text/x-python",
   "name": "python",
   "nbconvert_exporter": "python",
   "pygments_lexer": "ipython3",
   "version": "3.8.8"
  }
 },
 "nbformat": 4,
 "nbformat_minor": 5
}
